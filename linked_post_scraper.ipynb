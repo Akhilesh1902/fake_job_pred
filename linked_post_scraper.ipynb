{
 "cells": [
  {
   "cell_type": "code",
   "execution_count": null,
   "metadata": {},
   "outputs": [],
   "source": [
    "%pip install requests\n",
    "%pip install beautifulsoup4"
   ]
  },
  {
   "cell_type": "code",
   "execution_count": null,
   "metadata": {},
   "outputs": [
    {
     "name": "stdout",
     "output_type": "stream",
     "text": [
      "Hello, World! This is a test string.\n"
     ]
    }
   ],
   "source": [
    "import re\n",
    "\n",
    "# https://github.com/mayankparihar98/Fake_Job_Prediction/tree/master\n",
    "\n",
    "def remove_duplicate_whitespace(input_string):\n",
    "    \"\"\"\n",
    "    Removes duplicate whitespace from the input string.\n",
    "\n",
    "    Args:\n",
    "        input_string (str): The input string to remove duplicate whitespace from.\n",
    "\n",
    "    Returns:\n",
    "        str: The input string with duplicate whitespace removed.\n",
    "    \"\"\"\n",
    "    return re.sub(r'\\s+', ' ', input_string).strip()\n",
    "\n",
    "# Example usage:\n",
    "input_string = \"Hello,   World!  This   is a test string.\"\n",
    "output_string = remove_duplicate_whitespace(input_string)\n",
    "print(output_string)  # Output: \"Hello, World! This is a test string.\""
   ]
  },
  {
   "cell_type": "code",
   "execution_count": null,
   "metadata": {},
   "outputs": [
    {
     "name": "stdout",
     "output_type": "stream",
     "text": [
      "<Response [200]>\n",
      "['Digital Production Designer, Temp']\n",
      "['\\n                Parfums Christian Dior\\n              ']\n",
      "Parfums Christian Dior\n"
     ]
    }
   ],
   "source": [
    "import requests\n",
    "from bs4 import BeautifulSoup\n",
    "\n",
    "# Making a GET request\n",
    "url = 'https://www.linkedin.com/jobs/view/digital-production-designer-temp-at-parfums-christian-dior-4192660446?trk=public_jobs_topcard-title'\n",
    "url2 = 'https://www.geeksforgeeks.org/python-programming-language/'\n",
    "\n",
    "r = requests.get(url)\n",
    "\n",
    "# check status code for response received\n",
    "# success code - 200\n",
    "print(r)\n",
    "\n",
    "jobTitle = 'top-card-layout__title'\n",
    "orgName = 'topcard__org-name-link'\n",
    "\n",
    "# print content of request\n",
    "# print(r.content)\n",
    "# print(soup.prettify())\n",
    "soup = BeautifulSoup(r.content, 'html.parser')\n",
    "s = soup.find('div', class_='entry-content')\n",
    "content = soup.find_all('p')\n",
    "\n",
    "print(soup.find( class_ = jobTitle).contents)\n",
    "print(soup.find( class_ = orgName).contents)\n",
    "print(remove_duplicate_whitespace(soup.find('a', {\"class\" : orgName}).contents[0]))\n",
    "\n",
    "# print(content)"
   ]
  }
 ],
 "metadata": {
  "kernelspec": {
   "display_name": "myenv",
   "language": "python",
   "name": "python3"
  },
  "language_info": {
   "codemirror_mode": {
    "name": "ipython",
    "version": 3
   },
   "file_extension": ".py",
   "mimetype": "text/x-python",
   "name": "python",
   "nbconvert_exporter": "python",
   "pygments_lexer": "ipython3",
   "version": "3.12.2"
  }
 },
 "nbformat": 4,
 "nbformat_minor": 2
}
